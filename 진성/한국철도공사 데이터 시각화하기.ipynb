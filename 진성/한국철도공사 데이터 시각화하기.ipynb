{
 "cells": [
  {
   "cell_type": "code",
   "execution_count": 1,
   "metadata": {},
   "outputs": [],
   "source": [
    "import pandas as pd\n",
    "import numpy as np\n",
    "import matplotlib.pyplot as plt\n",
    "import re"
   ]
  },
  {
   "cell_type": "markdown",
   "metadata": {},
   "source": [
    "#### 데이터 명\n",
    "- 지하철 데이터 : KR_TB_SBWY_STN_HR_CON_20190101_20190531_UTF8.csv\n",
    "- 철도 데이터 : KR_TB_TR_STN_DAY_CON_20190101_20190531_UTF8.csv"
   ]
  },
  {
   "cell_type": "code",
   "execution_count": 2,
   "metadata": {
    "scrolled": false
   },
   "outputs": [
    {
     "data": {
      "text/html": [
       "<div>\n",
       "<style scoped>\n",
       "    .dataframe tbody tr th:only-of-type {\n",
       "        vertical-align: middle;\n",
       "    }\n",
       "\n",
       "    .dataframe tbody tr th {\n",
       "        vertical-align: top;\n",
       "    }\n",
       "\n",
       "    .dataframe thead th {\n",
       "        text-align: right;\n",
       "    }\n",
       "</style>\n",
       "<table border=\"1\" class=\"dataframe\">\n",
       "  <thead>\n",
       "    <tr style=\"text-align: right;\">\n",
       "      <th></th>\n",
       "      <th>RUN_DT</th>\n",
       "      <th>STN_CD</th>\n",
       "      <th>STN_CD_NM</th>\n",
       "      <th>ABRD_PRNB</th>\n",
       "      <th>GOFF_PRNB</th>\n",
       "    </tr>\n",
       "  </thead>\n",
       "  <tbody>\n",
       "    <tr>\n",
       "      <th>0</th>\n",
       "      <td>20200101</td>\n",
       "      <td>924</td>\n",
       "      <td>송도교</td>\n",
       "      <td>2</td>\n",
       "      <td>-</td>\n",
       "    </tr>\n",
       "    <tr>\n",
       "      <th>1</th>\n",
       "      <td>20200101</td>\n",
       "      <td>3900023</td>\n",
       "      <td>서울</td>\n",
       "      <td>38,306</td>\n",
       "      <td>50,440</td>\n",
       "    </tr>\n",
       "    <tr>\n",
       "      <th>2</th>\n",
       "      <td>20200101</td>\n",
       "      <td>3900025</td>\n",
       "      <td>용산</td>\n",
       "      <td>19,702</td>\n",
       "      <td>23,967</td>\n",
       "    </tr>\n",
       "    <tr>\n",
       "      <th>3</th>\n",
       "      <td>20200101</td>\n",
       "      <td>3900030</td>\n",
       "      <td>영등포</td>\n",
       "      <td>10,812</td>\n",
       "      <td>11,125</td>\n",
       "    </tr>\n",
       "    <tr>\n",
       "      <th>4</th>\n",
       "      <td>20200101</td>\n",
       "      <td>3900039</td>\n",
       "      <td>안양</td>\n",
       "      <td>387</td>\n",
       "      <td>269</td>\n",
       "    </tr>\n",
       "  </tbody>\n",
       "</table>\n",
       "</div>"
      ],
      "text/plain": [
       "     RUN_DT   STN_CD STN_CD_NM  ABRD_PRNB   GOFF_PRNB \n",
       "0  20200101      924       송도교          2           - \n",
       "1  20200101  3900023        서울     38,306      50,440 \n",
       "2  20200101  3900025        용산     19,702      23,967 \n",
       "3  20200101  3900030       영등포     10,812      11,125 \n",
       "4  20200101  3900039        안양        387         269 "
      ]
     },
     "execution_count": 2,
     "metadata": {},
     "output_type": "execute_result"
    }
   ],
   "source": [
    "train_df = pd.read_csv('KR_TB_TR_STN_DAY_CON_20200101_20200531_UTF8.csv')\n",
    "train_df.head()"
   ]
  },
  {
   "cell_type": "markdown",
   "metadata": {},
   "source": [
    "필요한 날짜 지역 하차 데이터 사용"
   ]
  },
  {
   "cell_type": "code",
   "execution_count": 3,
   "metadata": {},
   "outputs": [
    {
     "data": {
      "text/html": [
       "<div>\n",
       "<style scoped>\n",
       "    .dataframe tbody tr th:only-of-type {\n",
       "        vertical-align: middle;\n",
       "    }\n",
       "\n",
       "    .dataframe tbody tr th {\n",
       "        vertical-align: top;\n",
       "    }\n",
       "\n",
       "    .dataframe thead th {\n",
       "        text-align: right;\n",
       "    }\n",
       "</style>\n",
       "<table border=\"1\" class=\"dataframe\">\n",
       "  <thead>\n",
       "    <tr style=\"text-align: right;\">\n",
       "      <th></th>\n",
       "      <th>RUN_DT</th>\n",
       "      <th>STN_CD_NM</th>\n",
       "      <th>GOFF_PRNB</th>\n",
       "    </tr>\n",
       "  </thead>\n",
       "  <tbody>\n",
       "    <tr>\n",
       "      <th>0</th>\n",
       "      <td>20200101</td>\n",
       "      <td>송도교</td>\n",
       "      <td>-</td>\n",
       "    </tr>\n",
       "    <tr>\n",
       "      <th>1</th>\n",
       "      <td>20200101</td>\n",
       "      <td>서울</td>\n",
       "      <td>50,440</td>\n",
       "    </tr>\n",
       "    <tr>\n",
       "      <th>2</th>\n",
       "      <td>20200101</td>\n",
       "      <td>용산</td>\n",
       "      <td>23,967</td>\n",
       "    </tr>\n",
       "    <tr>\n",
       "      <th>3</th>\n",
       "      <td>20200101</td>\n",
       "      <td>영등포</td>\n",
       "      <td>11,125</td>\n",
       "    </tr>\n",
       "    <tr>\n",
       "      <th>4</th>\n",
       "      <td>20200101</td>\n",
       "      <td>안양</td>\n",
       "      <td>269</td>\n",
       "    </tr>\n",
       "  </tbody>\n",
       "</table>\n",
       "</div>"
      ],
      "text/plain": [
       "     RUN_DT STN_CD_NM  GOFF_PRNB \n",
       "0  20200101       송도교          - \n",
       "1  20200101        서울     50,440 \n",
       "2  20200101        용산     23,967 \n",
       "3  20200101       영등포     11,125 \n",
       "4  20200101        안양        269 "
      ]
     },
     "execution_count": 3,
     "metadata": {},
     "output_type": "execute_result"
    }
   ],
   "source": [
    "df = train_df.loc[:, ['RUN_DT', 'STN_CD_NM', ' GOFF_PRNB ']]\n",
    "df.head()"
   ]
  },
  {
   "cell_type": "code",
   "execution_count": 4,
   "metadata": {
    "scrolled": false
   },
   "outputs": [
    {
     "data": {
      "text/plain": [
       "RUN_DT         0\n",
       "STN_CD_NM      0\n",
       " GOFF_PRNB     0\n",
       "dtype: int64"
      ]
     },
     "execution_count": 4,
     "metadata": {},
     "output_type": "execute_result"
    }
   ],
   "source": [
    "df.isnull().sum()"
   ]
  },
  {
   "cell_type": "code",
   "execution_count": 5,
   "metadata": {},
   "outputs": [
    {
     "data": {
      "text/plain": [
       "array(['송도교', '서울', '용산', '영등포', '안양', '수원', '오산', '서정리', '평택', '성환',\n",
       "       '천안', '전의', '조치원', '부강', '신탄진', '대전', '옥천', '이원', '지탄', '심천', '영동',\n",
       "       '황간', '추풍령', '김천', '구미', '사곡', '약목', '왜관', '신동', '대구', '동대구', '경산',\n",
       "       '남성현', '청도', '상동', '밀양', '삼랑진', '원동', '물금', '화명', '구포', '사상', '부산',\n",
       "       '덕소', '양평', '용문', '지평', '석불', '일신', '매곡', '양동', '삼산', '동화', '만종',\n",
       "       '원주', '반곡', '신림', '제천', '단양', '희방사', '풍기', '영주', '안동', '의성', '탑리',\n",
       "       '화본', '신녕', '북영천', '영천', '건천', '서경주', '서대전', '계룡', '연산', '논산',\n",
       "       '강경', '함열', '익산', '김제', '신태인', '정읍', '백양사', '장성', '광주송정', '나주',\n",
       "       '다시', '함평', '무안', '몽탄', '일로', '임성리', '목포', '삼례', '전주', '임실', '오수',\n",
       "       '남원', '곡성', '구례구', '순천', '여천', '여수엑스포', '오송', '청주', '오근장', '청주공항',\n",
       "       '증평', '음성', '주덕', '충주', '삼탄', '아산', '온양온천', '도고온천', '신례원', '예산',\n",
       "       '삽교', '홍성', '광천', '청소', '대천', '웅천', '판교', '서천', '장항', '군산', '대야',\n",
       "       '행신', '옥수', '왕십리', '청량리', '평내호평', '청평', '가평', '백양리', '강촌', '남춘천',\n",
       "       '춘천', '옥산', '청리', '상주', '함창', '점촌', '용궁', '개포', '예천', '극락강', '광주',\n",
       "       '봉화', '춘양', '임기', '현동', '분천', '양원', '승부', '석포', '철암', '동백산', '도계',\n",
       "       '신기', '동해', '묵호', '정동진', '강릉', '정선', '나전', '아우라지', '쌍룡', '영월',\n",
       "       '예미', '민둥산', '사북', '고한', '태백', '부전', '센텀', '신해운대', '기장', '좌천',\n",
       "       '남창', '덕하', '태화강', '호계', '불국사', '경주', '안강', '하양', '한림정', '진영',\n",
       "       '창원', '마산', '중리', '함안', '군북', '반성', '진주', '완사', '북천', '횡천', '하동',\n",
       "       '진상', '광양', '벌교', '조성', '예당', '득량', '보성', '명봉', '이양', '능주', '화순',\n",
       "       '효천', '서광주', '광명', '천안아산', '김천구미', '신경주', '울산', '상봉', '진례', '창원중앙',\n",
       "       '인천공항T1', '공주', '포항', '횡성', '둔내', '평창', '진부', '인천공항T2', '월포', '장사',\n",
       "       '강구', '영덕', '각계', '퇴계원', '사릉', '마석', '별어곡', '선평', '광운대', '동두천',\n",
       "       '신창', '비동'], dtype=object)"
      ]
     },
     "execution_count": 5,
     "metadata": {},
     "output_type": "execute_result"
    }
   ],
   "source": [
    "df['STN_CD_NM'].unique()"
   ]
  },
  {
   "cell_type": "code",
   "execution_count": 6,
   "metadata": {},
   "outputs": [
    {
     "data": {
      "text/plain": [
       "0              - \n",
       "1         50,440 \n",
       "2         23,967 \n",
       "3         11,125 \n",
       "4            269 \n",
       "           ...   \n",
       "35035          - \n",
       "35036         14 \n",
       "35037          6 \n",
       "35038          9 \n",
       "35039        119 \n",
       "Name:  GOFF_PRNB , Length: 35040, dtype: object"
      ]
     },
     "execution_count": 6,
     "metadata": {},
     "output_type": "execute_result"
    }
   ],
   "source": [
    "df[' GOFF_PRNB ']"
   ]
  },
  {
   "cell_type": "code",
   "execution_count": 8,
   "metadata": {},
   "outputs": [
    {
     "name": "stdout",
     "output_type": "stream",
     "text": [
      "송도교 \n",
      " 0        0\n",
      "468      0\n",
      "706      1\n",
      "1871     2\n",
      "2106     0\n",
      "2342     0\n",
      "2576     0\n",
      "2812     0\n",
      "3514     2\n",
      "3751     1\n",
      "3989     2\n",
      "4224     2\n",
      "4460     2\n",
      "4929     2\n",
      "5640     0\n",
      "5873     0\n",
      "6575     2\n",
      "6812     0\n",
      "8684     1\n",
      "8916     0\n",
      "9148     1\n",
      "9615     1\n",
      "10314    1\n",
      "11475    2\n",
      "12866    2\n",
      "27711    0\n",
      "Name: GOFF_PRNB, dtype: object \n",
      "\n"
     ]
    },
    {
     "name": "stderr",
     "output_type": "stream",
     "text": [
      "/opt/anaconda3/lib/python3.7/site-packages/ipykernel_launcher.py:30: SettingWithCopyWarning: \n",
      "A value is trying to be set on a copy of a slice from a DataFrame.\n",
      "Try using .loc[row_indexer,col_indexer] = value instead\n",
      "\n",
      "See the caveats in the documentation: https://pandas.pydata.org/pandas-docs/stable/user_guide/indexing.html#returning-a-view-versus-a-copy\n"
     ]
    },
    {
     "ename": "ValueError",
     "evalue": "could not convert string to float: '50,440'",
     "output_type": "error",
     "traceback": [
      "\u001b[0;31m---------------------------------------------------------------------------\u001b[0m",
      "\u001b[0;31mValueError\u001b[0m                                Traceback (most recent call last)",
      "\u001b[0;32m<ipython-input-8-05eef599d94a>\u001b[0m in \u001b[0;36m<module>\u001b[0;34m\u001b[0m\n\u001b[1;32m     30\u001b[0m     \u001b[0mstation\u001b[0m\u001b[0;34m[\u001b[0m\u001b[0;34m'GOFF_PRNB'\u001b[0m\u001b[0;34m]\u001b[0m \u001b[0;34m=\u001b[0m \u001b[0mstation\u001b[0m\u001b[0;34m[\u001b[0m\u001b[0;34m' GOFF_PRNB '\u001b[0m\u001b[0;34m]\u001b[0m\u001b[0;34m.\u001b[0m\u001b[0mstr\u001b[0m\u001b[0;34m.\u001b[0m\u001b[0mstrip\u001b[0m\u001b[0;34m(\u001b[0m\u001b[0;34m)\u001b[0m\u001b[0;34m\u001b[0m\u001b[0;34m\u001b[0m\u001b[0m\n\u001b[1;32m     31\u001b[0m     \u001b[0mstation\u001b[0m\u001b[0;34m.\u001b[0m\u001b[0mloc\u001b[0m\u001b[0;34m[\u001b[0m\u001b[0mstation\u001b[0m\u001b[0;34m[\u001b[0m\u001b[0;34m'GOFF_PRNB'\u001b[0m\u001b[0;34m]\u001b[0m\u001b[0;34m==\u001b[0m\u001b[0;34m'-'\u001b[0m\u001b[0;34m,\u001b[0m \u001b[0;34m'GOFF_PRNB'\u001b[0m\u001b[0;34m]\u001b[0m \u001b[0;34m=\u001b[0m \u001b[0;36m0\u001b[0m\u001b[0;34m\u001b[0m\u001b[0;34m\u001b[0m\u001b[0m\n\u001b[0;32m---> 32\u001b[0;31m     \u001b[0mstation\u001b[0m\u001b[0;34m[\u001b[0m\u001b[0;34m'GOFF_PRNB'\u001b[0m\u001b[0;34m]\u001b[0m\u001b[0;34m.\u001b[0m\u001b[0mastype\u001b[0m\u001b[0;34m(\u001b[0m\u001b[0;34m'float'\u001b[0m\u001b[0;34m)\u001b[0m\u001b[0;34m\u001b[0m\u001b[0;34m\u001b[0m\u001b[0m\n\u001b[0m\u001b[1;32m     33\u001b[0m \u001b[0;34m\u001b[0m\u001b[0m\n\u001b[1;32m     34\u001b[0m     \u001b[0mprint\u001b[0m\u001b[0;34m(\u001b[0m\u001b[0mstations\u001b[0m\u001b[0;34m[\u001b[0m\u001b[0mi\u001b[0m\u001b[0;34m]\u001b[0m\u001b[0;34m,\u001b[0m \u001b[0;34m'\\n'\u001b[0m\u001b[0;34m,\u001b[0m \u001b[0mstation\u001b[0m\u001b[0;34m[\u001b[0m\u001b[0;34m'GOFF_PRNB'\u001b[0m\u001b[0;34m]\u001b[0m\u001b[0;34m,\u001b[0m \u001b[0;34m'\\n'\u001b[0m\u001b[0;34m)\u001b[0m\u001b[0;34m\u001b[0m\u001b[0;34m\u001b[0m\u001b[0m\n",
      "\u001b[0;32m/opt/anaconda3/lib/python3.7/site-packages/pandas/core/generic.py\u001b[0m in \u001b[0;36mastype\u001b[0;34m(self, dtype, copy, errors)\u001b[0m\n\u001b[1;32m   5696\u001b[0m         \u001b[0;32melse\u001b[0m\u001b[0;34m:\u001b[0m\u001b[0;34m\u001b[0m\u001b[0;34m\u001b[0m\u001b[0m\n\u001b[1;32m   5697\u001b[0m             \u001b[0;31m# else, only a single dtype is given\u001b[0m\u001b[0;34m\u001b[0m\u001b[0;34m\u001b[0m\u001b[0;34m\u001b[0m\u001b[0m\n\u001b[0;32m-> 5698\u001b[0;31m             \u001b[0mnew_data\u001b[0m \u001b[0;34m=\u001b[0m \u001b[0mself\u001b[0m\u001b[0;34m.\u001b[0m\u001b[0m_data\u001b[0m\u001b[0;34m.\u001b[0m\u001b[0mastype\u001b[0m\u001b[0;34m(\u001b[0m\u001b[0mdtype\u001b[0m\u001b[0;34m=\u001b[0m\u001b[0mdtype\u001b[0m\u001b[0;34m,\u001b[0m \u001b[0mcopy\u001b[0m\u001b[0;34m=\u001b[0m\u001b[0mcopy\u001b[0m\u001b[0;34m,\u001b[0m \u001b[0merrors\u001b[0m\u001b[0;34m=\u001b[0m\u001b[0merrors\u001b[0m\u001b[0;34m)\u001b[0m\u001b[0;34m\u001b[0m\u001b[0;34m\u001b[0m\u001b[0m\n\u001b[0m\u001b[1;32m   5699\u001b[0m             \u001b[0;32mreturn\u001b[0m \u001b[0mself\u001b[0m\u001b[0;34m.\u001b[0m\u001b[0m_constructor\u001b[0m\u001b[0;34m(\u001b[0m\u001b[0mnew_data\u001b[0m\u001b[0;34m)\u001b[0m\u001b[0;34m.\u001b[0m\u001b[0m__finalize__\u001b[0m\u001b[0;34m(\u001b[0m\u001b[0mself\u001b[0m\u001b[0;34m)\u001b[0m\u001b[0;34m\u001b[0m\u001b[0;34m\u001b[0m\u001b[0m\n\u001b[1;32m   5700\u001b[0m \u001b[0;34m\u001b[0m\u001b[0m\n",
      "\u001b[0;32m/opt/anaconda3/lib/python3.7/site-packages/pandas/core/internals/managers.py\u001b[0m in \u001b[0;36mastype\u001b[0;34m(self, dtype, copy, errors)\u001b[0m\n\u001b[1;32m    580\u001b[0m \u001b[0;34m\u001b[0m\u001b[0m\n\u001b[1;32m    581\u001b[0m     \u001b[0;32mdef\u001b[0m \u001b[0mastype\u001b[0m\u001b[0;34m(\u001b[0m\u001b[0mself\u001b[0m\u001b[0;34m,\u001b[0m \u001b[0mdtype\u001b[0m\u001b[0;34m,\u001b[0m \u001b[0mcopy\u001b[0m\u001b[0;34m:\u001b[0m \u001b[0mbool\u001b[0m \u001b[0;34m=\u001b[0m \u001b[0;32mFalse\u001b[0m\u001b[0;34m,\u001b[0m \u001b[0merrors\u001b[0m\u001b[0;34m:\u001b[0m \u001b[0mstr\u001b[0m \u001b[0;34m=\u001b[0m \u001b[0;34m\"raise\"\u001b[0m\u001b[0;34m)\u001b[0m\u001b[0;34m:\u001b[0m\u001b[0;34m\u001b[0m\u001b[0;34m\u001b[0m\u001b[0m\n\u001b[0;32m--> 582\u001b[0;31m         \u001b[0;32mreturn\u001b[0m \u001b[0mself\u001b[0m\u001b[0;34m.\u001b[0m\u001b[0mapply\u001b[0m\u001b[0;34m(\u001b[0m\u001b[0;34m\"astype\"\u001b[0m\u001b[0;34m,\u001b[0m \u001b[0mdtype\u001b[0m\u001b[0;34m=\u001b[0m\u001b[0mdtype\u001b[0m\u001b[0;34m,\u001b[0m \u001b[0mcopy\u001b[0m\u001b[0;34m=\u001b[0m\u001b[0mcopy\u001b[0m\u001b[0;34m,\u001b[0m \u001b[0merrors\u001b[0m\u001b[0;34m=\u001b[0m\u001b[0merrors\u001b[0m\u001b[0;34m)\u001b[0m\u001b[0;34m\u001b[0m\u001b[0;34m\u001b[0m\u001b[0m\n\u001b[0m\u001b[1;32m    583\u001b[0m \u001b[0;34m\u001b[0m\u001b[0m\n\u001b[1;32m    584\u001b[0m     \u001b[0;32mdef\u001b[0m \u001b[0mconvert\u001b[0m\u001b[0;34m(\u001b[0m\u001b[0mself\u001b[0m\u001b[0;34m,\u001b[0m \u001b[0;34m**\u001b[0m\u001b[0mkwargs\u001b[0m\u001b[0;34m)\u001b[0m\u001b[0;34m:\u001b[0m\u001b[0;34m\u001b[0m\u001b[0;34m\u001b[0m\u001b[0m\n",
      "\u001b[0;32m/opt/anaconda3/lib/python3.7/site-packages/pandas/core/internals/managers.py\u001b[0m in \u001b[0;36mapply\u001b[0;34m(self, f, filter, **kwargs)\u001b[0m\n\u001b[1;32m    440\u001b[0m                 \u001b[0mapplied\u001b[0m \u001b[0;34m=\u001b[0m \u001b[0mb\u001b[0m\u001b[0;34m.\u001b[0m\u001b[0mapply\u001b[0m\u001b[0;34m(\u001b[0m\u001b[0mf\u001b[0m\u001b[0;34m,\u001b[0m \u001b[0;34m**\u001b[0m\u001b[0mkwargs\u001b[0m\u001b[0;34m)\u001b[0m\u001b[0;34m\u001b[0m\u001b[0;34m\u001b[0m\u001b[0m\n\u001b[1;32m    441\u001b[0m             \u001b[0;32melse\u001b[0m\u001b[0;34m:\u001b[0m\u001b[0;34m\u001b[0m\u001b[0;34m\u001b[0m\u001b[0m\n\u001b[0;32m--> 442\u001b[0;31m                 \u001b[0mapplied\u001b[0m \u001b[0;34m=\u001b[0m \u001b[0mgetattr\u001b[0m\u001b[0;34m(\u001b[0m\u001b[0mb\u001b[0m\u001b[0;34m,\u001b[0m \u001b[0mf\u001b[0m\u001b[0;34m)\u001b[0m\u001b[0;34m(\u001b[0m\u001b[0;34m**\u001b[0m\u001b[0mkwargs\u001b[0m\u001b[0;34m)\u001b[0m\u001b[0;34m\u001b[0m\u001b[0;34m\u001b[0m\u001b[0m\n\u001b[0m\u001b[1;32m    443\u001b[0m             \u001b[0mresult_blocks\u001b[0m \u001b[0;34m=\u001b[0m \u001b[0m_extend_blocks\u001b[0m\u001b[0;34m(\u001b[0m\u001b[0mapplied\u001b[0m\u001b[0;34m,\u001b[0m \u001b[0mresult_blocks\u001b[0m\u001b[0;34m)\u001b[0m\u001b[0;34m\u001b[0m\u001b[0;34m\u001b[0m\u001b[0m\n\u001b[1;32m    444\u001b[0m \u001b[0;34m\u001b[0m\u001b[0m\n",
      "\u001b[0;32m/opt/anaconda3/lib/python3.7/site-packages/pandas/core/internals/blocks.py\u001b[0m in \u001b[0;36mastype\u001b[0;34m(self, dtype, copy, errors)\u001b[0m\n\u001b[1;32m    623\u001b[0m             \u001b[0mvals1d\u001b[0m \u001b[0;34m=\u001b[0m \u001b[0mvalues\u001b[0m\u001b[0;34m.\u001b[0m\u001b[0mravel\u001b[0m\u001b[0;34m(\u001b[0m\u001b[0;34m)\u001b[0m\u001b[0;34m\u001b[0m\u001b[0;34m\u001b[0m\u001b[0m\n\u001b[1;32m    624\u001b[0m             \u001b[0;32mtry\u001b[0m\u001b[0;34m:\u001b[0m\u001b[0;34m\u001b[0m\u001b[0;34m\u001b[0m\u001b[0m\n\u001b[0;32m--> 625\u001b[0;31m                 \u001b[0mvalues\u001b[0m \u001b[0;34m=\u001b[0m \u001b[0mastype_nansafe\u001b[0m\u001b[0;34m(\u001b[0m\u001b[0mvals1d\u001b[0m\u001b[0;34m,\u001b[0m \u001b[0mdtype\u001b[0m\u001b[0;34m,\u001b[0m \u001b[0mcopy\u001b[0m\u001b[0;34m=\u001b[0m\u001b[0;32mTrue\u001b[0m\u001b[0;34m)\u001b[0m\u001b[0;34m\u001b[0m\u001b[0;34m\u001b[0m\u001b[0m\n\u001b[0m\u001b[1;32m    626\u001b[0m             \u001b[0;32mexcept\u001b[0m \u001b[0;34m(\u001b[0m\u001b[0mValueError\u001b[0m\u001b[0;34m,\u001b[0m \u001b[0mTypeError\u001b[0m\u001b[0;34m)\u001b[0m\u001b[0;34m:\u001b[0m\u001b[0;34m\u001b[0m\u001b[0;34m\u001b[0m\u001b[0m\n\u001b[1;32m    627\u001b[0m                 \u001b[0;31m# e.g. astype_nansafe can fail on object-dtype of strings\u001b[0m\u001b[0;34m\u001b[0m\u001b[0;34m\u001b[0m\u001b[0;34m\u001b[0m\u001b[0m\n",
      "\u001b[0;32m/opt/anaconda3/lib/python3.7/site-packages/pandas/core/dtypes/cast.py\u001b[0m in \u001b[0;36mastype_nansafe\u001b[0;34m(arr, dtype, copy, skipna)\u001b[0m\n\u001b[1;32m    895\u001b[0m     \u001b[0;32mif\u001b[0m \u001b[0mcopy\u001b[0m \u001b[0;32mor\u001b[0m \u001b[0mis_object_dtype\u001b[0m\u001b[0;34m(\u001b[0m\u001b[0marr\u001b[0m\u001b[0;34m)\u001b[0m \u001b[0;32mor\u001b[0m \u001b[0mis_object_dtype\u001b[0m\u001b[0;34m(\u001b[0m\u001b[0mdtype\u001b[0m\u001b[0;34m)\u001b[0m\u001b[0;34m:\u001b[0m\u001b[0;34m\u001b[0m\u001b[0;34m\u001b[0m\u001b[0m\n\u001b[1;32m    896\u001b[0m         \u001b[0;31m# Explicit copy, or required since NumPy can't view from / to object.\u001b[0m\u001b[0;34m\u001b[0m\u001b[0;34m\u001b[0m\u001b[0;34m\u001b[0m\u001b[0m\n\u001b[0;32m--> 897\u001b[0;31m         \u001b[0;32mreturn\u001b[0m \u001b[0marr\u001b[0m\u001b[0;34m.\u001b[0m\u001b[0mastype\u001b[0m\u001b[0;34m(\u001b[0m\u001b[0mdtype\u001b[0m\u001b[0;34m,\u001b[0m \u001b[0mcopy\u001b[0m\u001b[0;34m=\u001b[0m\u001b[0;32mTrue\u001b[0m\u001b[0;34m)\u001b[0m\u001b[0;34m\u001b[0m\u001b[0;34m\u001b[0m\u001b[0m\n\u001b[0m\u001b[1;32m    898\u001b[0m \u001b[0;34m\u001b[0m\u001b[0m\n\u001b[1;32m    899\u001b[0m     \u001b[0;32mreturn\u001b[0m \u001b[0marr\u001b[0m\u001b[0;34m.\u001b[0m\u001b[0mview\u001b[0m\u001b[0;34m(\u001b[0m\u001b[0mdtype\u001b[0m\u001b[0;34m)\u001b[0m\u001b[0;34m\u001b[0m\u001b[0;34m\u001b[0m\u001b[0m\n",
      "\u001b[0;31mValueError\u001b[0m: could not convert string to float: '50,440'"
     ]
    }
   ],
   "source": [
    "stations = ['송도교', '서울', '용산', '영등포', '안양', '수원', '오산', '서정리', '평택', '성환',\n",
    "       '천안', '전의', '조치원', '부강', '신탄진', '대전', '옥천', '이원', '심천', '영동', '황간',\n",
    "       '추풍령', '김천', '구미', '사곡', '약목', '왜관', '신동', '대구', '동대구', '경산',\n",
    "       '남성현', '청도', '상동', '밀양', '삼랑진', '원동', '물금', '화명', '구포', '사상', '부산',\n",
    "       '덕소', '양평', '용문', '지평', '석불', '일신', '매곡', '양동', '삼산', '동화', '만종',\n",
    "       '원주', '반곡', '신림', '제천', '단양', '희방사', '풍기', '영주', '안동', '의성', '탑리',\n",
    "       '화본', '신녕', '북영천', '영천', '건천', '서경주', '서대전', '계룡', '연산', '논산',\n",
    "       '강경', '함열', '익산', '김제', '신태인', '정읍', '백양사', '장성', '광주송정', '나주',\n",
    "       '다시', '함평', '무안', '몽탄', '일로', '임성리', '목포', '삼례', '전주', '임실', '오수',\n",
    "       '남원', '곡성', '구례구', '순천', '여천', '여수엑스포', '오송', '청주', '오근장', '청주공항',\n",
    "       '증평', '음성', '주덕', '충주', '삼탄', '아산', '온양온천', '신창', '도고온천', '신례원',\n",
    "       '예산', '삽교', '홍성', '광천', '청소', '대천', '웅천', '판교', '서천', '장항', '군산',\n",
    "       '대야', '행신', '옥수', '왕십리', '청량리', '동두천', '소요산', '전곡', '연천', '신망리',\n",
    "       '대광리', '신탄리', '평내호평', '청평', '가평', '백양리', '강촌', '남춘천', '춘천', '옥산',\n",
    "       '청리', '상주', '함창', '점촌', '용궁', '개포', '예천', '극락강', '광주', '봉화', '춘양',\n",
    "       '현동', '분천', '양원', '승부', '석포', '철암', '동백산', '도계', '신기', '동해', '묵호',\n",
    "       '망상해변', '정동진', '강릉', '쌍룡', '영월', '예미', '민둥산', '사북', '고한', '태백',\n",
    "       '부전', '센텀', '신해운대', '기장', '좌천', '월내', '남창', '덕하', '태화강', '호계',\n",
    "       '불국사', '경주', '안강', '하양', '한림정', '진영', '창원', '마산', '중리', '함안', '군북',\n",
    "       '반성', '진주', '완사', '북천', '횡천', '하동', '진상', '광양', '벌교', '조성', '예당',\n",
    "       '득량', '보성', '명봉', '이양', '능주', '화순', '효천', '서광주', '광명', '천안아산',\n",
    "       '김천구미', '신경주', '울산', '상봉', '진례', '창원중앙', '인천공항T1', '백마고지', '공주',\n",
    "       '포항', '횡성', '둔내', '평창', '진부', '인천공항T2', '월포', '장사', '강구', '영덕',\n",
    "       '지탄', '각계', '문산', '임진강', '도라산', '초성리', '퇴계원', '사릉', '마석', '임기',\n",
    "       '별어곡', '선평', '정선', '아우라지', '비동', '광운대', '의정부', '한탄강', '나전', '운천',\n",
    "       '서빙고', '망우', '백운', '자미원', '의왕', '창동', '별내']\n",
    "\n",
    "for i in range(0, 266):\n",
    "    station = df[df['STN_CD_NM'] == stations[i]]\n",
    "    station['GOFF_PRNB'] = station[' GOFF_PRNB '].str.strip()\n",
    "    station.loc[station['GOFF_PRNB']=='-', 'GOFF_PRNB'] = 0\n",
    "    station['GOFF_PRNB'].astype('float')\n",
    "    \n",
    "    print(stations[i], '\\n', station['GOFF_PRNB'], '\\n')"
   ]
  },
  {
   "cell_type": "code",
   "execution_count": null,
   "metadata": {},
   "outputs": [],
   "source": [
    "station.head()"
   ]
  },
  {
   "cell_type": "code",
   "execution_count": null,
   "metadata": {},
   "outputs": [],
   "source": [
    "print(station.dtypes)"
   ]
  },
  {
   "cell_type": "code",
   "execution_count": null,
   "metadata": {},
   "outputs": [],
   "source": []
  }
 ],
 "metadata": {
  "kernelspec": {
   "display_name": "Python 3",
   "language": "python",
   "name": "python3"
  },
  "language_info": {
   "codemirror_mode": {
    "name": "ipython",
    "version": 3
   },
   "file_extension": ".py",
   "mimetype": "text/x-python",
   "name": "python",
   "nbconvert_exporter": "python",
   "pygments_lexer": "ipython3",
   "version": "3.7.6"
  }
 },
 "nbformat": 4,
 "nbformat_minor": 4
}
